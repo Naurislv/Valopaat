{
 "cells": [
  {
   "cell_type": "code",
   "execution_count": 1,
   "metadata": {
    "collapsed": true
   },
   "outputs": [],
   "source": [
    "%matplotlib inline\n",
    "import scipy.io\n",
    "import cv2\n",
    "import matplotlib.pyplot as plt\n",
    "import numpy as np\n",
    "import math"
   ]
  },
  {
   "cell_type": "code",
   "execution_count": 2,
   "metadata": {
    "collapsed": true
   },
   "outputs": [],
   "source": [
    "hand_dataset = '/home/nauris/Dropbox/coding/Valopaat/data/hand_dataset/'"
   ]
  },
  {
   "cell_type": "code",
   "execution_count": 3,
   "metadata": {
    "collapsed": true
   },
   "outputs": [],
   "source": [
    "import glob\n",
    "import os"
   ]
  },
  {
   "cell_type": "code",
   "execution_count": 4,
   "metadata": {},
   "outputs": [
    {
     "name": "stdout",
     "output_type": "stream",
     "text": [
      "5628\n"
     ]
    }
   ],
   "source": [
    "im_size = 250\n",
    "\n",
    "dataset_path = glob.glob(hand_dataset + 'test_dataset/images/*.jpg')\n",
    "dataset_path += glob.glob(hand_dataset + 'training_dataset/images/*.jpg')\n",
    "dataset_path += glob.glob(hand_dataset + 'validation_dataset/images/*.jpg')\n",
    "\n",
    "print(len(dataset_path))"
   ]
  },
  {
   "cell_type": "code",
   "execution_count": 5,
   "metadata": {
    "collapsed": true
   },
   "outputs": [],
   "source": [
    "def get_hand(img, coords, plot=False):\n",
    "    hand_h = 26\n",
    "    hand_w = 18\n",
    "    \n",
    "    hand = img[coords[1] - hand_h//2: coords[1] + hand_h//2,\n",
    "               coords[0] - hand_w//2: coords[0] + hand_w//2]\n",
    "    \n",
    "    # print(hand.shape)\n",
    "    \n",
    "    if hand.shape[0] != hand_h or hand.shape[1] != hand_w:\n",
    "        return None\n",
    "    \n",
    "    plt.imshow(hand)\n",
    "    plt.show()\n",
    "\n",
    "    return hand"
   ]
  },
  {
   "cell_type": "code",
   "execution_count": 10,
   "metadata": {
    "collapsed": true
   },
   "outputs": [],
   "source": [
    "def parse_annotation(annot):\n",
    "    persons = []\n",
    "    for person in annot['boxes']:\n",
    "        # print('Number of hands', person.shape[0])\n",
    "        \n",
    "        if person.shape[0] > 2:\n",
    "            # skip if more than two hands because we are only\n",
    "            # interesting for single person hand detection\n",
    "            return None\n",
    "        \n",
    "        label = [0, 0, 0 ,0]\n",
    "        for hand in person:\n",
    "            try:\n",
    "                hand_label = hand[0][0][4][0] # Left or right\n",
    "            except IndexError:\n",
    "                return None # No hand label available\n",
    "            bbox = np.array([[hand[0][0][0][0][1], hand[0][0][0][0][0]],\n",
    "                             [hand[0][0][1][0][1], hand[0][0][1][0][0]],\n",
    "                             [hand[0][0][2][0][1], hand[0][0][2][0][0]],\n",
    "                             [hand[0][0][3][0][1], hand[0][0][3][0][0]]], np.int32)\n",
    "\n",
    "            _xcenter = int((bbox[:, 0].max() + bbox[:, 0].min()) / 2)\n",
    "            _ycenter = int((bbox[:, 1].max() + bbox[:, 1].min()) / 2)\n",
    "            if hand_label == 'L':\n",
    "                label[0] = _xcenter\n",
    "                label[1] = _ycenter\n",
    "            else:\n",
    "                label[2] = _xcenter\n",
    "                label[3] = _ycenter\n",
    "\n",
    "            # print(hand_label, bbox, bbox.shape)\n",
    "\n",
    "            # cv2.drawContours(img, [bbox], 0, (0,255,0), 3)\n",
    "\n",
    "        # print(hstore0)\n",
    "        # print(hstore1)\n",
    "        # cv2.drawContours(img, [bbox], 0, (0,0,255), 3)\n",
    "    return label"
   ]
  },
  {
   "cell_type": "code",
   "execution_count": null,
   "metadata": {
    "collapsed": true
   },
   "outputs": [],
   "source": [
    "def parse_annotations(annot):\n",
    "    bboxs = []\n",
    "    for person in annot['boxes']:\n",
    "        # print('Number of hands', person.shape[0])\n",
    "        \n",
    "        # if person.shape[0] > 2:\n",
    "            # skip if more than two hands because we are only\n",
    "            # interesting for single person hand detection\n",
    "        #     return None\n",
    "        \n",
    "        # label = [0, 0, 0 ,0]\n",
    "        for hand in person:\n",
    "            try:\n",
    "                hand_label = hand[0][0][4][0] # Left or right\n",
    "            except IndexError:\n",
    "                return None # No hand label available\n",
    "            bbox = np.array([[hand[0][0][0][0][1], hand[0][0][0][0][0]],\n",
    "                             [hand[0][0][1][0][1], hand[0][0][1][0][0]],\n",
    "                             [hand[0][0][2][0][1], hand[0][0][2][0][0]],\n",
    "                             [hand[0][0][3][0][1], hand[0][0][3][0][0]]], np.int32)\n",
    "\n",
    "            # _xcenter = int((bbox[:, 0].max() + bbox[:, 0].min()) / 2)\n",
    "            # _ycenter = int((bbox[:, 1].max() + bbox[:, 1].min()) / 2)\n",
    "            # if hand_label == 'L':\n",
    "            #     label[0] = _xcenter\n",
    "            #     label[1] = _ycenter\n",
    "            # else:\n",
    "            #     label[2] = _xcenter\n",
    "            #     label[3] = _ycenter\n",
    "\n",
    "            # print(hand_label, bbox, bbox.shape)\n",
    "\n",
    "            # cv2.drawContours(img, [bbox], 0, (0,255,0), 3)\n",
    "            bboxs.append(bbox)\n",
    "\n",
    "        # print(hstore0)\n",
    "        # print(hstore1)\n",
    "        # cv2.drawContours(img, [bbox], 0, (0,0,255), 3)\n",
    "    return bboxs"
   ]
  },
  {
   "cell_type": "code",
   "execution_count": 11,
   "metadata": {},
   "outputs": [
    {
     "name": "stdout",
     "output_type": "stream",
     "text": [
      "(3443, 250, 250, 3) (3443, 4)\n"
     ]
    }
   ],
   "source": [
    "labels = []\n",
    "images = []\n",
    "\n",
    "for path in dataset_path:\n",
    "    dir_path = '/'.join(os.path.dirname(path).split('/')[:-1])\n",
    "    \n",
    "    annot_file = dir_path + '/annotations/' + ''.join(os.path.basename(path).split('.')[:-1])\n",
    "    annot = scipy.io.loadmat(annot_file + '.mat')\n",
    "    \n",
    "    label = parse_annotation(annot)\n",
    "    # print(label)\n",
    "    \n",
    "    if label != None:\n",
    "        \n",
    "        im_file = dir_path + '/images/' + ''.join(os.path.basename(path).split('.')[:-1])\n",
    "        img = cv2.imread(im_file + '.jpg')\n",
    "        img = cv2.cvtColor(img, cv2.COLOR_BGR2RGB)\n",
    "        \n",
    "        if img.shape[0] >= img.shape[1]: # Image is vertically positioned\n",
    "\n",
    "            im_w = int(img.shape[1] * im_size / img.shape[0])\n",
    "            \n",
    "            label[1] = int(label[1] * (im_size / img.shape[0]))\n",
    "            label[3] = int(label[3] * (im_size / img.shape[0]))\n",
    "            \n",
    "            label[0] = int(label[0] * (im_w / img.shape[1]))\n",
    "            label[2] = int(label[2] * (im_w / img.shape[1]))\n",
    "\n",
    "            img = cv2.resize(img, (im_w, im_size))\n",
    "            img = np.pad(img, ((0, 0), (0, im_size - im_w), (0, 0)),\n",
    "                         'constant', constant_values=0)\n",
    "\n",
    "        else:\n",
    "            im_h = int(img.shape[0] * im_size / img.shape[1])\n",
    "            \n",
    "            label[1] = int(label[1] * (im_h / img.shape[0]))\n",
    "            label[3] = int(label[3] * (im_h / img.shape[0]))\n",
    "            \n",
    "            label[0] = int(label[0] * (im_size / img.shape[1]))\n",
    "            label[2] = int(label[2] * (im_size / img.shape[1]))\n",
    "            \n",
    "            img = cv2.resize(img, (im_size, im_h))\n",
    "            img = np.pad(img, ((0, im_size - im_h), (0, 0), (0, 0)),\n",
    "                         'constant', constant_values=0)\n",
    "        \n",
    "        # plt.imshow(img)\n",
    "        # plt.show()\n",
    "        \n",
    "        # print('Image', img.shape, img.min(), img.mean(), img.max())\n",
    "        # print(label)\n",
    "        \n",
    "        # hand_0 = get_hand(img, [label[0], label[1]], plot=True)\n",
    "        # hand_1 = get_hand(img, [label[2], label[3]], plot=True)\n",
    "        \n",
    "        img = (img - 127.5) / 255\n",
    "        label = np.asarray(label) / im_size\n",
    "        \n",
    "        images.append(img)\n",
    "        labels.append(label)\n",
    "\n",
    "images = np.asarray(images, np.float32)\n",
    "labels = np.asarray(labels)\n",
    "\n",
    "print(images.shape, labels.shape)"
   ]
  },
  {
   "cell_type": "code",
   "execution_count": 13,
   "metadata": {},
   "outputs": [],
   "source": [
    "np.save('data/hand_dataset/images.npy', images)\n",
    "np.save('data/hand_dataset/labels.npy', labels)"
   ]
  }
 ],
 "metadata": {
  "kernelspec": {
   "display_name": "Python 3",
   "language": "python",
   "name": "python3"
  },
  "language_info": {
   "codemirror_mode": {
    "name": "ipython",
    "version": 3
   },
   "file_extension": ".py",
   "mimetype": "text/x-python",
   "name": "python",
   "nbconvert_exporter": "python",
   "pygments_lexer": "ipython3",
   "version": "3.6.2"
  }
 },
 "nbformat": 4,
 "nbformat_minor": 2
}
